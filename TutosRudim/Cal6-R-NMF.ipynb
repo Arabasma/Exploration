{
 "cells": [
  {
   "cell_type": "markdown",
   "metadata": {},
   "source": [
    "<center>\n",
    "<a href=\"http://www.insa-toulouse.fr/\" ><img src=\"http://www.math.univ-toulouse.fr/~besse/Wikistat/Images/logo-insa.jpg\" style=\"float:left; max-width: 120px; display: inline\" alt=\"INSA\"/></a> \n",
    "\n",
    "<a href=\"http://wikistat.fr/\" ><img src=\"http://www.math.univ-toulouse.fr/~besse/Wikistat/Images/wikistat.jpg\" style=\"float:right; max-width: 250px; display: inline\"  alt=\"Wikistat\"/></a>\n",
    "</center>"
   ]
  },
  {
   "cell_type": "markdown",
   "metadata": {},
   "source": [
    "# [Scénarios d'Exploration Statistique](https://github.com/wikistat/Exploration)"
   ]
  },
  {
   "cell_type": "markdown",
   "metadata": {},
   "source": [
    "# NMF et complétion de matrice avec <a href=\"https://cran.r-project.org/\"><img src=\"https://cran.r-project.org/Rlogo.svg\" style=\"max-width: 40px; display: inline\" alt=\"R\"/></a>\n",
    "# Exemple jouet de recommandation\n",
    "#### Résumé \n",
    "Mise en oeuvre  dans R de la [NMF](http://wikistat.fr/pdf/st-m-explo-nmf.pdf) ou factorisation de matrice non négative sur un exemple jouet de système de recommandation par filtrage collaboratif. Comparaison avec la SVD et la complétion de matrice par `softImpute`."
   ]
  },
  {
   "cell_type": "markdown",
   "metadata": {},
   "source": [
    "## 1 Introduction\n",
    "### 1.1 Système de recommandation\n",
    "Tous les sites marchands mettent en place des systèmes de recommandation pour déterminer les produits les plus susceptibles d'intéresser les internautes / clients en visite. Lorsque ceux-ci sont basées sur les seules informations concernant les interactions clients $\\times$ produits, ils sont nommés *filtrage collaboratif*. Parmi ces derniers, les systèmes les plus aboutis sont basés sur la recherche d'un modèle de quelques *facteurs latents* susceptibles d'expliquer en faible dimension les interactions entre clients et produits.  \n",
    "\n",
    "D'autres systèmes sont basés sur des connaissances clients (*user-based*) ou sur des connaissances produits (*item-based*) ou encore sur des approches mixtes. Ils ne sont pas abordés ici.\n",
    "\n",
    "Les données se mettent sous la forme d'une matrice $X$, toujours très creuse, contenant pour chaque client $i$ (ligne) le nombre d'achats du produit $j$ (colonne) ou une note d'appréciation de 1 à 5 lorsqu'il s'agit de films (Netflix),  musiques (itune), livres... \n",
    "\n",
    "**Attention**, la valeur \"$0$\" a du sens lorsqu'il s'agit d'un nombre d'achats alors qu'elle doit signifier une donnée manquante dans le cas d'une notation. \n",
    "### 1.2 Factorisation\n",
    "#### Définition\n",
    "La [décomposition en valeurs singulières](http://wikistat.fr/pdf/st-m-explo-alglin.pdf) (SVD) d'une matrice ainsi que la  [Non Negativ Matrix Factorization](http://wikistat.fr/pdf/st-m-explo-nmf.pdf) (NMF) sont utilisées dans ce contexte pour rechercher les facteurs (matrices $W$ et $H$) reconstruisant au mieux la matrice $X\\approx WH$ avec une contrainte de *parcimonie* ou faible rang sur les matrices $W$ et $H$.  Contrairement à la SVD où les facteurs sont recherchés orthogonaux 2 à 2, la NMF impose la contrainte de non négativité des matrices pour construire les facteurs de la décomposition. Ces facteurs ne permettent plus de représentation comme en [ACP](http://wikistat.fr/pdf/st-m-explo-acp.pdf) ou en [MDS](http://wikistat.fr/pdf/st-m-explo-mds.pdf) mais au moins une classification non supervisée tant des objets lignes que des  objets colonnes de la matrice initiale. Ces classifications sont respectivement basées sur les matrices $W$ et $H$ des facteurs dits latents. \n",
    "\n",
    "Schématiquement, $w_{ij}$ dénote l'appétence du $i$-ème utilisateur pour le $j$-ème facteur latent, tandis que $h_{jk}$ décrit quelle part du $k$-ième item intervient dans le $j$-ème facteur latent; le modèle suppose que la note $x_{ik}$ est la somme, sur tous les facteurs latents $j$, des produits $w_{ij}*h_{jk}$. \n",
    "\n",
    "#### Implémentation, convergence\n",
    "La SVD, est basée sur un critère de moindre carrés ([norme trace des matrices](http://wikistat.fr/pdf/st-m-explo-alglin.pdf)). La librairie `NMF` (Gaujoux et Seoighe, 2010) de R propose plusieurs algorithmes de factorisation non négative, principalement *Multiplicative update algorithms* et *Alternate least Square (ALS)*, adaptés à deux fonctions possibles de perte: divergence de Kullback-Leibler (KL) ou moindres carrés (norme trace). \n",
    "\n",
    "**Attention**, les choix d'option : fonction objectif, algorithme, rang des matrices, influencent fortement les résultats obtenus et ce d'autant plus que les algorithmes (NMF) convergent (au mieux) vers des optimums locaux. La SVD bénéficie d'une convergence \"globale\" mais est moins adaptée au contexte car les solutions ne sont pas cohérentes avec l'objectif recherché: des notes ou comptages nécessairement positifs.\n",
    "\n",
    "### 1.3 Complétion\n",
    "Lorsque, les données sont des notes d'appréciation, la valeur \"0\" signifie en principe une valeur manquante. L'usage de la NMF ou de la SVD est alors abusif. Cette situation a été largement popularisée avec le concours [Netflix](http://www.netflixprize.com/) à un million de dollars. Il a été abordé de façon théorique par Candes et Tao (2010) comme un problème de *complétion de matrice* sous contrainte de parcimonie;  problème difficile, dont de très nombreuses approximations et implémentations ont depuis été proposées. Une simple utilisation est proposée ici dont l'algorithme (Mazumder et al. 2010) conduit également à une factorisation.\n",
    "\n",
    "## 2 Factorisation non négative de matrice\n",
    "### 2.1 Les données\n",
    "Des données fictives triviales (`recom-jouet.dat`) sont testées afin d'illustrer la démarche. Elles contiennent des nombres d'achats de certains produits ou des notes d'appréciation et peuvent être complétées à loisir au gré de votre imagination."
   ]
  },
  {
   "cell_type": "code",
   "execution_count": 1,
   "metadata": {},
   "outputs": [
    {
     "data": {
      "text/html": [
       "<table class=\"dataframe\">\n",
       "<caption>A data.frame: 20 × 15</caption>\n",
       "<thead>\n",
       "\t<tr><th></th><th scope=col>Cacahuet</th><th scope=col>Chips</th><th scope=col>Vin</th><th scope=col>Biere</th><th scope=col>Champ</th><th scope=col>Olive</th><th scope=col>Pepsi</th><th scope=col>Orange</th><th scope=col>Gateau</th><th scope=col>Fromage</th><th scope=col>Perrier</th><th scope=col>Pizza</th><th scope=col>Muscat</th><th scope=col>Quiche</th><th scope=col>Coca</th></tr>\n",
       "\t<tr><th></th><th scope=col>&lt;int&gt;</th><th scope=col>&lt;int&gt;</th><th scope=col>&lt;int&gt;</th><th scope=col>&lt;int&gt;</th><th scope=col>&lt;int&gt;</th><th scope=col>&lt;int&gt;</th><th scope=col>&lt;int&gt;</th><th scope=col>&lt;int&gt;</th><th scope=col>&lt;int&gt;</th><th scope=col>&lt;int&gt;</th><th scope=col>&lt;int&gt;</th><th scope=col>&lt;int&gt;</th><th scope=col>&lt;int&gt;</th><th scope=col>&lt;int&gt;</th><th scope=col>&lt;int&gt;</th></tr>\n",
       "</thead>\n",
       "<tbody>\n",
       "\t<tr><th scope=row>Jean</th><td>1</td><td>0</td><td>0</td><td>2</td><td>1</td><td>4</td><td>6</td><td>0</td><td>5</td><td>2</td><td>0</td><td>0</td><td>1</td><td>2</td><td>0</td></tr>\n",
       "\t<tr><th scope=row>Julie</th><td>4</td><td>0</td><td>5</td><td>2</td><td>1</td><td>4</td><td>0</td><td>0</td><td>5</td><td>1</td><td>1</td><td>0</td><td>0</td><td>1</td><td>3</td></tr>\n",
       "\t<tr><th scope=row>Brice</th><td>0</td><td>0</td><td>0</td><td>2</td><td>1</td><td>4</td><td>2</td><td>1</td><td>4</td><td>0</td><td>4</td><td>2</td><td>0</td><td>0</td><td>2</td></tr>\n",
       "\t<tr><th scope=row>George</th><td>3</td><td>0</td><td>0</td><td>1</td><td>1</td><td>0</td><td>6</td><td>0</td><td>5</td><td>0</td><td>2</td><td>1</td><td>3</td><td>2</td><td>0</td></tr>\n",
       "\t<tr><th scope=row>Rose</th><td>3</td><td>0</td><td>0</td><td>2</td><td>1</td><td>4</td><td>1</td><td>0</td><td>5</td><td>0</td><td>1</td><td>0</td><td>3</td><td>2</td><td>0</td></tr>\n",
       "\t<tr><th scope=row>Colette</th><td>0</td><td>3</td><td>3</td><td>4</td><td>0</td><td>2</td><td>4</td><td>5</td><td>6</td><td>2</td><td>0</td><td>1</td><td>0</td><td>1</td><td>0</td></tr>\n",
       "\t<tr><th scope=row>Aline</th><td>3</td><td>0</td><td>0</td><td>2</td><td>1</td><td>4</td><td>6</td><td>0</td><td>5</td><td>0</td><td>5</td><td>3</td><td>0</td><td>2</td><td>0</td></tr>\n",
       "\t<tr><th scope=row>Marie</th><td>3</td><td>6</td><td>0</td><td>0</td><td>0</td><td>0</td><td>0</td><td>0</td><td>5</td><td>2</td><td>2</td><td>1</td><td>6</td><td>2</td><td>0</td></tr>\n",
       "\t<tr><th scope=row>Albert</th><td>0</td><td>3</td><td>3</td><td>0</td><td>0</td><td>2</td><td>2</td><td>2</td><td>1</td><td>0</td><td>5</td><td>0</td><td>0</td><td>2</td><td>4</td></tr>\n",
       "\t<tr><th scope=row>Kevin</th><td>2</td><td>0</td><td>0</td><td>2</td><td>2</td><td>0</td><td>3</td><td>0</td><td>3</td><td>2</td><td>1</td><td>0</td><td>4</td><td>2</td><td>0</td></tr>\n",
       "\t<tr><th scope=row>Sophie</th><td>5</td><td>3</td><td>2</td><td>0</td><td>3</td><td>0</td><td>2</td><td>2</td><td>1</td><td>0</td><td>0</td><td>2</td><td>0</td><td>1</td><td>0</td></tr>\n",
       "\t<tr><th scope=row>Pierre</th><td>0</td><td>1</td><td>0</td><td>3</td><td>0</td><td>2</td><td>0</td><td>0</td><td>1</td><td>2</td><td>1</td><td>0</td><td>0</td><td>1</td><td>2</td></tr>\n",
       "\t<tr><th scope=row>Paul</th><td>1</td><td>0</td><td>1</td><td>0</td><td>0</td><td>1</td><td>2</td><td>2</td><td>0</td><td>1</td><td>2</td><td>1</td><td>2</td><td>2</td><td>0</td></tr>\n",
       "\t<tr><th scope=row>Raoul</th><td>3</td><td>5</td><td>3</td><td>0</td><td>3</td><td>0</td><td>0</td><td>3</td><td>4</td><td>2</td><td>3</td><td>0</td><td>2</td><td>4</td><td>2</td></tr>\n",
       "\t<tr><th scope=row>Lucie</th><td>0</td><td>2</td><td>2</td><td>0</td><td>2</td><td>1</td><td>3</td><td>4</td><td>0</td><td>0</td><td>2</td><td>0</td><td>0</td><td>3</td><td>2</td></tr>\n",
       "\t<tr><th scope=row>Cecile</th><td>1</td><td>7</td><td>2</td><td>3</td><td>0</td><td>4</td><td>5</td><td>0</td><td>0</td><td>2</td><td>0</td><td>3</td><td>2</td><td>3</td><td>3</td></tr>\n",
       "\t<tr><th scope=row>Alain</th><td>5</td><td>0</td><td>0</td><td>5</td><td>0</td><td>4</td><td>3</td><td>0</td><td>0</td><td>3</td><td>4</td><td>2</td><td>1</td><td>0</td><td>0</td></tr>\n",
       "\t<tr><th scope=row>Laura</th><td>0</td><td>2</td><td>3</td><td>0</td><td>3</td><td>0</td><td>2</td><td>3</td><td>0</td><td>3</td><td>3</td><td>0</td><td>0</td><td>0</td><td>2</td></tr>\n",
       "\t<tr><th scope=row>FLore</th><td>0</td><td>0</td><td>3</td><td>0</td><td>0</td><td>5</td><td>6</td><td>0</td><td>0</td><td>7</td><td>0</td><td>2</td><td>6</td><td>7</td><td>0</td></tr>\n",
       "\t<tr><th scope=row>Chloe</th><td>1</td><td>2</td><td>3</td><td>2</td><td>0</td><td>3</td><td>0</td><td>2</td><td>0</td><td>4</td><td>0</td><td>2</td><td>0</td><td>2</td><td>5</td></tr>\n",
       "</tbody>\n",
       "</table>\n"
      ],
      "text/latex": [
       "A data.frame: 20 × 15\n",
       "\\begin{tabular}{r|lllllllllllllll}\n",
       "  & Cacahuet & Chips & Vin & Biere & Champ & Olive & Pepsi & Orange & Gateau & Fromage & Perrier & Pizza & Muscat & Quiche & Coca\\\\\n",
       "  & <int> & <int> & <int> & <int> & <int> & <int> & <int> & <int> & <int> & <int> & <int> & <int> & <int> & <int> & <int>\\\\\n",
       "\\hline\n",
       "\tJean & 1 & 0 & 0 & 2 & 1 & 4 & 6 & 0 & 5 & 2 & 0 & 0 & 1 & 2 & 0\\\\\n",
       "\tJulie & 4 & 0 & 5 & 2 & 1 & 4 & 0 & 0 & 5 & 1 & 1 & 0 & 0 & 1 & 3\\\\\n",
       "\tBrice & 0 & 0 & 0 & 2 & 1 & 4 & 2 & 1 & 4 & 0 & 4 & 2 & 0 & 0 & 2\\\\\n",
       "\tGeorge & 3 & 0 & 0 & 1 & 1 & 0 & 6 & 0 & 5 & 0 & 2 & 1 & 3 & 2 & 0\\\\\n",
       "\tRose & 3 & 0 & 0 & 2 & 1 & 4 & 1 & 0 & 5 & 0 & 1 & 0 & 3 & 2 & 0\\\\\n",
       "\tColette & 0 & 3 & 3 & 4 & 0 & 2 & 4 & 5 & 6 & 2 & 0 & 1 & 0 & 1 & 0\\\\\n",
       "\tAline & 3 & 0 & 0 & 2 & 1 & 4 & 6 & 0 & 5 & 0 & 5 & 3 & 0 & 2 & 0\\\\\n",
       "\tMarie & 3 & 6 & 0 & 0 & 0 & 0 & 0 & 0 & 5 & 2 & 2 & 1 & 6 & 2 & 0\\\\\n",
       "\tAlbert & 0 & 3 & 3 & 0 & 0 & 2 & 2 & 2 & 1 & 0 & 5 & 0 & 0 & 2 & 4\\\\\n",
       "\tKevin & 2 & 0 & 0 & 2 & 2 & 0 & 3 & 0 & 3 & 2 & 1 & 0 & 4 & 2 & 0\\\\\n",
       "\tSophie & 5 & 3 & 2 & 0 & 3 & 0 & 2 & 2 & 1 & 0 & 0 & 2 & 0 & 1 & 0\\\\\n",
       "\tPierre & 0 & 1 & 0 & 3 & 0 & 2 & 0 & 0 & 1 & 2 & 1 & 0 & 0 & 1 & 2\\\\\n",
       "\tPaul & 1 & 0 & 1 & 0 & 0 & 1 & 2 & 2 & 0 & 1 & 2 & 1 & 2 & 2 & 0\\\\\n",
       "\tRaoul & 3 & 5 & 3 & 0 & 3 & 0 & 0 & 3 & 4 & 2 & 3 & 0 & 2 & 4 & 2\\\\\n",
       "\tLucie & 0 & 2 & 2 & 0 & 2 & 1 & 3 & 4 & 0 & 0 & 2 & 0 & 0 & 3 & 2\\\\\n",
       "\tCecile & 1 & 7 & 2 & 3 & 0 & 4 & 5 & 0 & 0 & 2 & 0 & 3 & 2 & 3 & 3\\\\\n",
       "\tAlain & 5 & 0 & 0 & 5 & 0 & 4 & 3 & 0 & 0 & 3 & 4 & 2 & 1 & 0 & 0\\\\\n",
       "\tLaura & 0 & 2 & 3 & 0 & 3 & 0 & 2 & 3 & 0 & 3 & 3 & 0 & 0 & 0 & 2\\\\\n",
       "\tFLore & 0 & 0 & 3 & 0 & 0 & 5 & 6 & 0 & 0 & 7 & 0 & 2 & 6 & 7 & 0\\\\\n",
       "\tChloe & 1 & 2 & 3 & 2 & 0 & 3 & 0 & 2 & 0 & 4 & 0 & 2 & 0 & 2 & 5\\\\\n",
       "\\end{tabular}\n"
      ],
      "text/markdown": [
       "\n",
       "A data.frame: 20 × 15\n",
       "\n",
       "| <!--/--> | Cacahuet &lt;int&gt; | Chips &lt;int&gt; | Vin &lt;int&gt; | Biere &lt;int&gt; | Champ &lt;int&gt; | Olive &lt;int&gt; | Pepsi &lt;int&gt; | Orange &lt;int&gt; | Gateau &lt;int&gt; | Fromage &lt;int&gt; | Perrier &lt;int&gt; | Pizza &lt;int&gt; | Muscat &lt;int&gt; | Quiche &lt;int&gt; | Coca &lt;int&gt; |\n",
       "|---|---|---|---|---|---|---|---|---|---|---|---|---|---|---|---|\n",
       "| Jean | 1 | 0 | 0 | 2 | 1 | 4 | 6 | 0 | 5 | 2 | 0 | 0 | 1 | 2 | 0 |\n",
       "| Julie | 4 | 0 | 5 | 2 | 1 | 4 | 0 | 0 | 5 | 1 | 1 | 0 | 0 | 1 | 3 |\n",
       "| Brice | 0 | 0 | 0 | 2 | 1 | 4 | 2 | 1 | 4 | 0 | 4 | 2 | 0 | 0 | 2 |\n",
       "| George | 3 | 0 | 0 | 1 | 1 | 0 | 6 | 0 | 5 | 0 | 2 | 1 | 3 | 2 | 0 |\n",
       "| Rose | 3 | 0 | 0 | 2 | 1 | 4 | 1 | 0 | 5 | 0 | 1 | 0 | 3 | 2 | 0 |\n",
       "| Colette | 0 | 3 | 3 | 4 | 0 | 2 | 4 | 5 | 6 | 2 | 0 | 1 | 0 | 1 | 0 |\n",
       "| Aline | 3 | 0 | 0 | 2 | 1 | 4 | 6 | 0 | 5 | 0 | 5 | 3 | 0 | 2 | 0 |\n",
       "| Marie | 3 | 6 | 0 | 0 | 0 | 0 | 0 | 0 | 5 | 2 | 2 | 1 | 6 | 2 | 0 |\n",
       "| Albert | 0 | 3 | 3 | 0 | 0 | 2 | 2 | 2 | 1 | 0 | 5 | 0 | 0 | 2 | 4 |\n",
       "| Kevin | 2 | 0 | 0 | 2 | 2 | 0 | 3 | 0 | 3 | 2 | 1 | 0 | 4 | 2 | 0 |\n",
       "| Sophie | 5 | 3 | 2 | 0 | 3 | 0 | 2 | 2 | 1 | 0 | 0 | 2 | 0 | 1 | 0 |\n",
       "| Pierre | 0 | 1 | 0 | 3 | 0 | 2 | 0 | 0 | 1 | 2 | 1 | 0 | 0 | 1 | 2 |\n",
       "| Paul | 1 | 0 | 1 | 0 | 0 | 1 | 2 | 2 | 0 | 1 | 2 | 1 | 2 | 2 | 0 |\n",
       "| Raoul | 3 | 5 | 3 | 0 | 3 | 0 | 0 | 3 | 4 | 2 | 3 | 0 | 2 | 4 | 2 |\n",
       "| Lucie | 0 | 2 | 2 | 0 | 2 | 1 | 3 | 4 | 0 | 0 | 2 | 0 | 0 | 3 | 2 |\n",
       "| Cecile | 1 | 7 | 2 | 3 | 0 | 4 | 5 | 0 | 0 | 2 | 0 | 3 | 2 | 3 | 3 |\n",
       "| Alain | 5 | 0 | 0 | 5 | 0 | 4 | 3 | 0 | 0 | 3 | 4 | 2 | 1 | 0 | 0 |\n",
       "| Laura | 0 | 2 | 3 | 0 | 3 | 0 | 2 | 3 | 0 | 3 | 3 | 0 | 0 | 0 | 2 |\n",
       "| FLore | 0 | 0 | 3 | 0 | 0 | 5 | 6 | 0 | 0 | 7 | 0 | 2 | 6 | 7 | 0 |\n",
       "| Chloe | 1 | 2 | 3 | 2 | 0 | 3 | 0 | 2 | 0 | 4 | 0 | 2 | 0 | 2 | 5 |\n",
       "\n"
      ],
      "text/plain": [
       "        Cacahuet Chips Vin Biere Champ Olive Pepsi Orange Gateau Fromage\n",
       "Jean    1        0     0   2     1     4     6     0      5      2      \n",
       "Julie   4        0     5   2     1     4     0     0      5      1      \n",
       "Brice   0        0     0   2     1     4     2     1      4      0      \n",
       "George  3        0     0   1     1     0     6     0      5      0      \n",
       "Rose    3        0     0   2     1     4     1     0      5      0      \n",
       "Colette 0        3     3   4     0     2     4     5      6      2      \n",
       "Aline   3        0     0   2     1     4     6     0      5      0      \n",
       "Marie   3        6     0   0     0     0     0     0      5      2      \n",
       "Albert  0        3     3   0     0     2     2     2      1      0      \n",
       "Kevin   2        0     0   2     2     0     3     0      3      2      \n",
       "Sophie  5        3     2   0     3     0     2     2      1      0      \n",
       "Pierre  0        1     0   3     0     2     0     0      1      2      \n",
       "Paul    1        0     1   0     0     1     2     2      0      1      \n",
       "Raoul   3        5     3   0     3     0     0     3      4      2      \n",
       "Lucie   0        2     2   0     2     1     3     4      0      0      \n",
       "Cecile  1        7     2   3     0     4     5     0      0      2      \n",
       "Alain   5        0     0   5     0     4     3     0      0      3      \n",
       "Laura   0        2     3   0     3     0     2     3      0      3      \n",
       "FLore   0        0     3   0     0     5     6     0      0      7      \n",
       "Chloe   1        2     3   2     0     3     0     2      0      4      \n",
       "        Perrier Pizza Muscat Quiche Coca\n",
       "Jean    0       0     1      2      0   \n",
       "Julie   1       0     0      1      3   \n",
       "Brice   4       2     0      0      2   \n",
       "George  2       1     3      2      0   \n",
       "Rose    1       0     3      2      0   \n",
       "Colette 0       1     0      1      0   \n",
       "Aline   5       3     0      2      0   \n",
       "Marie   2       1     6      2      0   \n",
       "Albert  5       0     0      2      4   \n",
       "Kevin   1       0     4      2      0   \n",
       "Sophie  0       2     0      1      0   \n",
       "Pierre  1       0     0      1      2   \n",
       "Paul    2       1     2      2      0   \n",
       "Raoul   3       0     2      4      2   \n",
       "Lucie   2       0     0      3      2   \n",
       "Cecile  0       3     2      3      3   \n",
       "Alain   4       2     1      0      0   \n",
       "Laura   3       0     0      0      2   \n",
       "FLore   0       2     6      7      0   \n",
       "Chloe   0       2     0      2      5   "
      ]
     },
     "metadata": {},
     "output_type": "display_data"
    }
   ],
   "source": [
    "jouet <- read.table(\"Data/recom-jouet.dat\")\n",
    "jouet"
   ]
  },
  {
   "cell_type": "code",
   "execution_count": 2,
   "metadata": {},
   "outputs": [
    {
     "data": {
      "text/plain": [
       "    Cacahuet        Chips          Vin          Biere         Champ     \n",
       " Min.   :0.00   Min.   :0.0   Min.   :0.0   Min.   :0.0   Min.   :0.00  \n",
       " 1st Qu.:0.00   1st Qu.:0.0   1st Qu.:0.0   1st Qu.:0.0   1st Qu.:0.00  \n",
       " Median :1.00   Median :0.5   Median :1.5   Median :2.0   Median :1.00  \n",
       " Mean   :1.75   Mean   :1.7   Mean   :1.5   Mean   :1.5   Mean   :0.95  \n",
       " 3rd Qu.:3.00   3rd Qu.:3.0   3rd Qu.:3.0   3rd Qu.:2.0   3rd Qu.:1.25  \n",
       " Max.   :5.00   Max.   :7.0   Max.   :5.0   Max.   :5.0   Max.   :3.00  \n",
       "     Olive         Pepsi          Orange        Gateau       Fromage    \n",
       " Min.   :0.0   Min.   :0.00   Min.   :0.0   Min.   :0.0   Min.   :0.00  \n",
       " 1st Qu.:0.0   1st Qu.:0.75   1st Qu.:0.0   1st Qu.:0.0   1st Qu.:0.00  \n",
       " Median :2.0   Median :2.00   Median :0.0   Median :2.0   Median :2.00  \n",
       " Mean   :2.2   Mean   :2.65   Mean   :1.2   Mean   :2.5   Mean   :1.65  \n",
       " 3rd Qu.:4.0   3rd Qu.:4.25   3rd Qu.:2.0   3rd Qu.:5.0   3rd Qu.:2.00  \n",
       " Max.   :5.0   Max.   :6.00   Max.   :5.0   Max.   :6.0   Max.   :7.00  \n",
       "    Perrier        Pizza       Muscat         Quiche          Coca     \n",
       " Min.   :0.0   Min.   :0   Min.   :0.00   Min.   :0.00   Min.   :0.00  \n",
       " 1st Qu.:0.0   1st Qu.:0   1st Qu.:0.00   1st Qu.:1.00   1st Qu.:0.00  \n",
       " Median :1.5   Median :1   Median :0.50   Median :2.00   Median :0.00  \n",
       " Mean   :1.8   Mean   :1   Mean   :1.50   Mean   :1.95   Mean   :1.25  \n",
       " 3rd Qu.:3.0   3rd Qu.:2   3rd Qu.:2.25   3rd Qu.:2.00   3rd Qu.:2.00  \n",
       " Max.   :5.0   Max.   :3   Max.   :6.00   Max.   :7.00   Max.   :5.00  "
      ]
     },
     "metadata": {},
     "output_type": "display_data"
    }
   ],
   "source": [
    "summary(jouet)"
   ]
  },
  {
   "cell_type": "markdown",
   "metadata": {},
   "source": [
    "Résumé des données :"
   ]
  },
  {
   "cell_type": "code",
   "execution_count": 3,
   "metadata": {},
   "outputs": [
    {
     "data": {
      "image/png": "[encoded data removed]",
      "text/plain": [
       "plot without title"
      ]
     },
     "metadata": {
      "image/png": {
       "height": 180,
       "width": 600
      }
     },
     "output_type": "display_data"
    }
   ],
   "source": [
    "options(repr.plot.width = 10, repr.plot.height = 3)\n",
    "boxplot(jouet)"
   ]
  },
  {
   "cell_type": "markdown",
   "metadata": {},
   "source": [
    "Les données sont bien creuses mais les variables s'expriment dans des unités et donc avec des variances très différentes. Une forme de normalisation peut s'avérer  nécessaire. Elle concerne à la fois les produits (colonnes ou variables), car certains (chocolat) sont plébiscités plus que d'autres, ainsi que les clients qui peuvent avoir des échelles différentes de notation. C'est bien connu en *analyse sensorielle*.\n",
    "\n",
    "### 2.2 Factorisation\n",
    "Chargement de la librairie et identification des algorithmes disponibles. Plusieurs initialisation sont possibles; seule celle aléatoire par défaut est utilisée."
   ]
  },
  {
   "cell_type": "code",
   "execution_count": 4,
   "metadata": {},
   "outputs": [
    {
     "name": "stderr",
     "output_type": "stream",
     "text": [
      "Loading required package: pkgmaker\n",
      "\n",
      "Loading required package: registry\n",
      "\n",
      "Loading required package: rngtools\n",
      "\n",
      "Loading required package: cluster\n",
      "\n",
      "NMF - BioConductor layer [OK] | Shared memory capabilities [NO: bigmemory] | Cores 7/8\n",
      "\n",
      "  To enable shared memory capabilities, try: install.extras('\n",
      "NMF\n",
      "')\n",
      "\n"
     ]
    },
    {
     "data": {
      "text/html": [
       "<style>\n",
       ".list-inline {list-style: none; margin:0; padding: 0}\n",
       ".list-inline>li {display: inline-block}\n",
       ".list-inline>li:not(:last-child)::after {content: \"\\00b7\"; padding: 0 .5ex}\n",
       "</style>\n",
       "<ol class=list-inline><li>'brunet'</li><li>'KL'</li><li>'lee'</li><li>'Frobenius'</li><li>'offset'</li><li>'nsNMF'</li><li>'ls-nmf'</li><li>'pe-nmf'</li><li>'siNMF'</li><li>'snmf/r'</li><li>'snmf/l'</li></ol>\n"
      ],
      "text/latex": [
       "\\begin{enumerate*}\n",
       "\\item 'brunet'\n",
       "\\item 'KL'\n",
       "\\item 'lee'\n",
       "\\item 'Frobenius'\n",
       "\\item 'offset'\n",
       "\\item 'nsNMF'\n",
       "\\item 'ls-nmf'\n",
       "\\item 'pe-nmf'\n",
       "\\item 'siNMF'\n",
       "\\item 'snmf/r'\n",
       "\\item 'snmf/l'\n",
       "\\end{enumerate*}\n"
      ],
      "text/markdown": [
       "1. 'brunet'\n",
       "2. 'KL'\n",
       "3. 'lee'\n",
       "4. 'Frobenius'\n",
       "5. 'offset'\n",
       "6. 'nsNMF'\n",
       "7. 'ls-nmf'\n",
       "8. 'pe-nmf'\n",
       "9. 'siNMF'\n",
       "10. 'snmf/r'\n",
       "11. 'snmf/l'\n",
       "\n",
       "\n"
      ],
      "text/plain": [
       " [1] \"brunet\"    \"KL\"        \"lee\"       \"Frobenius\" \"offset\"    \"nsNMF\"    \n",
       " [7] \"ls-nmf\"    \"pe-nmf\"    \"siNMF\"     \"snmf/r\"    \"snmf/l\"   "
      ]
     },
     "metadata": {},
     "output_type": "display_data"
    }
   ],
   "source": [
    "library(NMF)\n",
    "# L'installation de Biobase peut poser problème. \n",
    "# Une solution possible est donnée ci-dessous : \n",
    "# if (!requireNamespace(\"BiocManager\", quietly = TRUE))\n",
    "# install.packages(\"BiocManager\")\n",
    "# BiocManager::install(\"Biobase\")\n",
    "\n",
    "nmfAlgorithm()"
   ]
  },
  {
   "cell_type": "code",
   "execution_count": 5,
   "metadata": {},
   "outputs": [
    {
     "data": {
      "text/plain": [
       "<object of class: NMFStrategyIterative>\n",
       " name: brunet [NMF]\n",
       " objective: 'KL' \n",
       " model: NMFstd \n",
       " <Iterative schema>\n",
       "  onInit: none\n",
       "  Update: function (i, v, x, copy = FALSE, eps = .Machine$double.eps, ...)\n",
       "  Stop: 'connectivity'\n",
       "  onReturn: none"
      ]
     },
     "metadata": {},
     "output_type": "display_data"
    }
   ],
   "source": [
    "nmfAlgorithm(\"brunet\")"
   ]
  },
  {
   "cell_type": "code",
   "execution_count": 6,
   "metadata": {},
   "outputs": [
    {
     "data": {
      "text/plain": [
       "<object of class: NMFStrategyIterative>\n",
       " name: lee [NMF]\n",
       " objective: 'euclidean' \n",
       " model: NMFstd \n",
       " <Iterative schema>\n",
       "  onInit: none\n",
       "  Update: function (i, v, x, rescale = TRUE, copy = FALSE, eps = 10^-9,\n",
       "            weight = NULL, ...)\n",
       "  Stop: 'connectivity'\n",
       "  onReturn: none"
      ]
     },
     "metadata": {},
     "output_type": "display_data"
    }
   ],
   "source": [
    "nmfAlgorithm(\"lee\")"
   ]
  },
  {
   "cell_type": "code",
   "execution_count": 7,
   "metadata": {},
   "outputs": [
    {
     "data": {
      "text/plain": [
       "<object of class: NMFStrategyFunction>\n",
       " name: snmf/l [NMF]\n",
       " objective: function (x, y, eta = -1, beta = 0.01) \n",
       " model: NMFstd "
      ]
     },
     "metadata": {},
     "output_type": "display_data"
    }
   ],
   "source": [
    "nmfAlgorithm(\"snmf/l\")"
   ]
  },
  {
   "cell_type": "code",
   "execution_count": 8,
   "metadata": {},
   "outputs": [
    {
     "data": {
      "text/plain": [
       "<object of class: NMFStrategyFunction>\n",
       " name: snmf/r [NMF]\n",
       " objective: function (x, y, eta = -1, beta = 0.01) \n",
       " model: NMFstd "
      ]
     },
     "metadata": {},
     "output_type": "display_data"
    }
   ],
   "source": [
    "nmfAlgorithm(\"snmf/r\")"
   ]
  },
  {
   "cell_type": "markdown",
   "metadata": {},
   "source": [
    "**Q** Identifier la fonction perte.\n",
    "\n",
    "Les deux derniers algorithmes sont issus de l'ALS. \n",
    "\n",
    "\n",
    "Comparer les méthodes en exécutant pour chacune d'entre elles 10 factorisations de rang 5. Les exécutions sont répétées car la convergence locale dépend de l'initialisation. "
   ]
  },
  {
   "cell_type": "code",
   "execution_count": null,
   "metadata": {},
   "outputs": [],
   "source": [
    "res.multi.method <- nmf(jouet, 5, nrun = 10, list(\"brunet\", \"lee\", \"snmf/l\", \"snmf/r\"), \n",
    "                        seed = 111, .options = \"t\")\n",
    "compare(res.multi.method)"
   ]
  },
  {
   "cell_type": "code",
   "execution_count": null,
   "metadata": {},
   "outputs": [],
   "source": [
    "options(repr.plot.width = 10, repr.plot.height = 6)\n",
    "consensusmap(res.multi.method, hclustfun = \"ward\") "
   ]
  },
  {
   "cell_type": "markdown",
   "metadata": {
    "collapsed": true
   },
   "source": [
    "**Q** Plusieurs critères de comparaison sont proposés. Lequel choisir ? Pourquoi ?\n",
    "\n",
    "**Q** Choix du rang des matrices de la décomposition. "
   ]
  },
  {
   "cell_type": "code",
   "execution_count": null,
   "metadata": {},
   "outputs": [],
   "source": [
    "estim.r <- nmf(jouet, 2:6, method = \"snmf/r\", nrun = 10, seed = 100)\n",
    "plot(estim.r)  "
   ]
  },
  {
   "cell_type": "code",
   "execution_count": null,
   "metadata": {},
   "outputs": [],
   "source": [
    "options(repr.plot.width = 15, repr.plot.height = 8)\n",
    "consensusmap(estim.r) "
   ]
  },
  {
   "cell_type": "markdown",
   "metadata": {},
   "source": [
    "**Q** Utiliser les résultats précédents pour déterminer un rang optimal. \n",
    "\n",
    "Une fois méthode et rang déterminés, itérer plusieurs fois l'exécution pour retenir la meilleure. "
   ]
  },
  {
   "cell_type": "code",
   "execution_count": null,
   "metadata": {},
   "outputs": [],
   "source": [
    "nmf.jouet <- nmf(jouet, 3, method = \"snmf/r\", nrun = 30, seed = 111)"
   ]
  },
  {
   "cell_type": "markdown",
   "metadata": {},
   "source": [
    "Extraction des résultats numériques."
   ]
  },
  {
   "cell_type": "code",
   "execution_count": null,
   "metadata": {},
   "outputs": [],
   "source": [
    "summary(nmf.jouet)"
   ]
  },
  {
   "cell_type": "code",
   "execution_count": null,
   "metadata": {},
   "outputs": [],
   "source": [
    "# les matrices de facteurs\n",
    "w <- basis(nmf.jouet)\n",
    "h <- coef(nmf.jouet)"
   ]
  },
  {
   "cell_type": "markdown",
   "metadata": {},
   "source": [
    "### Représentation des classifications\n",
    "Production de classifications non-supervisées et graphiques associés aux matrices `w` et `h` de la factorisation.  Ceci permet d'identifier des groupes de clients au regard de leur consommation ou préférences comme de construire des classes de produits appréciés simultanément."
   ]
  },
  {
   "cell_type": "code",
   "execution_count": null,
   "metadata": {},
   "outputs": [],
   "source": [
    "options(repr.plot.width = 6, repr.plot.height = 6)\n",
    "basismap(nmf.jouet, hclustfun = \"ward\")\n",
    "coefmap(nmf.jouet,hclustfun = \"ward\")"
   ]
  },
  {
   "cell_type": "markdown",
   "metadata": {},
   "source": [
    "Comme c'est logique, le dendrogramme produit dans les cartes précédentes est directement issu des classifications ascendantes hiérarchiques calculées à partir des distances euclidiennes entre les lignes de `w` d'une part et les colonnes de `h` d'autre part.\n",
    "\n",
    "**Vérification**"
   ]
  },
  {
   "cell_type": "code",
   "execution_count": null,
   "metadata": {},
   "outputs": [],
   "source": [
    "library(class)\n",
    "distmod.w <- dist(w, method = \"euclidean\")\n",
    "hclusmod.w <- hclust(distmod.w, method = \"ward.D\")\n",
    "hclasmod.w <- cutree(hclusmod.w, k = 3)\n",
    "distmod.h <- dist(t(h), method = \"euclidean\")\n",
    "hclusmod.h <- hclust(distmod.h, method = \"ward.D\")\n",
    "hclasmod.h <- cutree(hclusmod.h, k = 3)\n",
    "\n",
    "options(repr.plot.width = 12, repr.plot.height = 5)\n",
    "par(mfrow = c(1, 2))\n",
    "plot(hclusmod.w)\n",
    "plot(hclusmod.h)"
   ]
  },
  {
   "cell_type": "markdown",
   "metadata": {},
   "source": [
    "La classification des objets est représentable dans les coordonnées d'un MDS ou dans les composantes d'une ACP des facteurs de la NMF ; c'est équivalent en considérant la distance euclidienne définie à partir de ces facteurs."
   ]
  },
  {
   "cell_type": "code",
   "execution_count": null,
   "metadata": {},
   "outputs": [],
   "source": [
    "mdjouet.w <- cmdscale(distmod.w, k = 2)\n",
    "dN.w <- dimnames(w)[[1]]\n",
    "\n",
    "mdjouet.h <- cmdscale(distmod.h, k = 2)\n",
    "dN.h <- dimnames(h)[[2]]\n",
    "\n",
    "options(repr.plot.width = 12, repr.plot.height = 5)\n",
    "par(mfrow = c(1, 2))\n",
    "plot(mdjouet.w, type = \"n\", xlab = \"\", ylab = \"\", main = \"\")\n",
    "text(mdjouet.w, dN.w, col = hclasmod.w)\n",
    "abline(v = 0, h = 0)\n",
    "plot(mdjouet.h, type = \"n\", xlab = \"\", ylab = \"\", main = \"\")\n",
    "text(mdjouet.h, dN.h, col = hclasmod.h)\n",
    "abline(v = 0, h = 0)"
   ]
  },
  {
   "cell_type": "markdown",
   "metadata": {},
   "source": [
    "**Q** Les produits à plus forte occurrence ou note peuvent prendre trop d'importance. Quelle opération simple peut-on effectuer les lignes de `w` et les colonnes de `h` pour en tenir compte ? Reprendre l'analyse précédente avec cette modification. "
   ]
  },
  {
   "cell_type": "markdown",
   "metadata": {},
   "source": [
    "Il n'est pas possible comme en ACP ou AFCM de mettre en relation les deux représentations des lignes et colonnes, individus et variables de la matrice factorisée. Cela peut être fait de façon détournée à l'aide d'une *heatmap* qui  intègre les classifications obtenues en réordonnant les lignes et colonnes de $X$. "
   ]
  },
  {
   "cell_type": "code",
   "execution_count": null,
   "metadata": {},
   "outputs": [],
   "source": [
    "# intégration des deux classifications\n",
    "aheatmap(jouet, Rowv = hclusmod.w, Colv = hclusmod.h, \n",
    "         annRow = as.factor(hclasmod.w), annCol = as.factor(hclasmod.h))"
   ]
  },
  {
   "cell_type": "markdown",
   "metadata": {},
   "source": [
    "*Remarque*. Les données ont été générées de façon assez aléatoire. Ne pas chercher à interpréter ou une cohérence dans les groupes."
   ]
  },
  {
   "cell_type": "markdown",
   "metadata": {},
   "source": [
    "## 3 Recommandation pour l'apéro\n",
    "### 3.1 recommandation par NMF\n",
    "L'objectif de rechercher les produits les plus susceptibles d'intéresser les clients. Celui-ci est atteint en reconstruisant une approximation de la matrice `x` par produit des matrices des facteurs. \n",
    "\n",
    "*Les couples (client, produit) pour lesquels les valeurs reconstruites sont le plus élevées alors qu'il n'y a pas eu d'achat ou de notation, sont ceux qui sont ciblés afin de proposer le produit identifié au client de ce couple.*\n",
    "\n",
    "**Attention**, le choix du rang est déterminant. En utilisant le choix optimal précédent ($r=4$) la reconstruction est finalement \"trop\" bonne et aucune recommandation n'émerge de la reconstruction de `x`. Le choix $r=2$, sous-optimal, fait ressortir des couples candidats pour la recommandation."
   ]
  },
  {
   "cell_type": "code",
   "execution_count": null,
   "metadata": {},
   "outputs": [],
   "source": [
    "# Exécution avec r=2\n",
    "nmf.jouet <- nmf(jouet, 2, method = \"snmf/r\", nrun = 30, seed = 111)\n",
    "# Matrice reconstruite\n",
    "xchap <- w %*% h"
   ]
  },
  {
   "cell_type": "markdown",
   "metadata": {},
   "source": [
    "Il s'agit ensuite de comparer la reconstruction avec les donées initiales afin d'identifier le plus fort score reconstruit par client.\n",
    "\n",
    "**Q** Justifier le calcul de `prod` ci-dessous, en distinguant selon le cas `jouet = 0` ou `jouet > 0`."
   ]
  },
  {
   "cell_type": "code",
   "execution_count": null,
   "metadata": {},
   "outputs": [],
   "source": [
    "prod <- apply(xchap - 10 * jouet, 1, function(x) which.max(x))\n",
    "# Identifier le produit correspondant\n",
    "cbind(dN.w, dN.h[prod])"
   ]
  },
  {
   "cell_type": "markdown",
   "metadata": {},
   "source": [
    "**Remarques**\n",
    "\n",
    "-  La démarche s'applique également à de simples matrices de (0, 1) de présence / absence d'achat.\n",
    "-  Les matrices peuvent être très grandes (données massives) sur des sites marchand, il est alors nécessaire d'utiliser des librairies avec représentation adaptée de matrices creuses pour réduire l'occupation mémoire. Seules les valeurs non nulles sont stockées.\n",
    "-  L'initialisation, ou *cold start*, de la matrice est un problème bien identifié. Cela concerne l'introduction d'un nouveau client ou d'un nouveau produit dans la base.\n",
    "-  D'autres approches concurrentes sont proposées ci-après.\n",
    "\n",
    "\n",
    "### 3.2 Recommandation par SVD\n",
    "La décomposition en valeurs singulières propose également une factorisation de la matrice $X=U\\Lambda V'$. Celle-ci a de bien meilleure propriétés numériques dont l'unicité de la solution optimale qui est atteinte pour un rang fixé. Des contraintes de parcimonie ou de régularité peuvent également être associées à la fonction perte quadratique (*sparse SVD*). \n",
    "\n",
    "#### ACP\n",
    "La démarche est équivalente et découle directement de la SVD donc de l'[analyse en composantes principales](http://wikistat.fr/pdf/st-m-explo-acp.pdf) de $X$. Remarquer une forte similitude entre les représentions obtenus par MDS des facteurs de le NMF et celles de l'ACP:"
   ]
  },
  {
   "cell_type": "code",
   "execution_count": null,
   "metadata": {},
   "outputs": [],
   "source": [
    "library(FactoMineR)\n",
    "acp <- PCA(jouet, graph = FALSE)\n",
    "\n",
    "options(repr.plot.width = 12, repr.plot.height = 6)\n",
    "par(mfrow = c(1, 2))\n",
    "plot(acp)\n",
    "plot(mdjouet.w, type = \"n\", xlab = \"\", ylab = \"\", main = \"\")\n",
    "text(mdjouet.w, dN.w, col = hclasmod.w)"
   ]
  },
  {
   "cell_type": "markdown",
   "metadata": {},
   "source": [
    "**Q** Adapt the previous code for the variables."
   ]
  },
  {
   "cell_type": "markdown",
   "metadata": {},
   "source": [
    "#### Recommandation\n",
    "Approximation de rang 2 par SVD puis comparaison avec les valeurs initiales afin d'identifier le plus fort score reconstruit."
   ]
  },
  {
   "cell_type": "code",
   "execution_count": null,
   "metadata": {},
   "outputs": [],
   "source": [
    "res <- svd(jouet)\n",
    "# Matrice reconstruite\n",
    "xchap <- res$u[,1:2] %*% diag(res$d[1:2]) %*% t(res$v[,1:2])\n",
    "dN.h <- dimnames(jouet)[[2]]\n",
    "dN.w <- dimnames(jouet)[[1]]"
   ]
  },
  {
   "cell_type": "code",
   "execution_count": null,
   "metadata": {},
   "outputs": [],
   "source": [
    "prod <- apply(xchap - 10 * jouet, 1, function(x) which.max(x))\n",
    "# Identifier le produit correspondant à promouvoir\n",
    "cbind(dN.w, dN.h[prod])"
   ]
  },
  {
   "cell_type": "markdown",
   "metadata": {},
   "source": [
    "Qui conduit donc, sur cet exemple trivial, à des résultats identiques. \n",
    "\n",
    "### 3.3 Par complétion de matrice\n",
    "Lorsque, les données sont des notes d'appréciation, la valeur \"0\" signifie en principe une valeur manquante et le problème est formellement celui d'une complétion de matrice. La librairie `softImpute` de R en propose une solution par un algorithme de SVD seuillée (Hastie et Mazumder et al. 2010). Il s'agit donc d'approcher une matrice très creuse avec beaucoup de valeurs manquantes par une matrice de faible rang. L'algorithme est analogue à un algorithme EM pour imputation de données manquantes. La fonction R accepte la classe de représentation des grandes matrices creuses.\n",
    "\n",
    "Les valeurs nulles sont remplacées par des valeurs manquantes."
   ]
  },
  {
   "cell_type": "code",
   "execution_count": null,
   "metadata": {},
   "outputs": [],
   "source": [
    "jouet.na <- jouet\n",
    "jouet.na[jouet==0] <- NA"
   ]
  },
  {
   "cell_type": "markdown",
   "metadata": {},
   "source": [
    "La recommandation se fait comme avec la SVD. Une étude plus approfondie de cet algorithme et de son usage s'avère nécessaire, notamment pour régler rang et paramètre de pénalisation."
   ]
  },
  {
   "cell_type": "code",
   "execution_count": null,
   "metadata": {},
   "outputs": [],
   "source": [
    "library(softImpute)\n",
    "res <- softImpute(jouet.na, rank.max = 2, type = \"svd\", lambda = 1)\n",
    "# Matrice reconstruite\n",
    "xchap <- res$u %*% diag(res$d) %*% t(res$v)"
   ]
  },
  {
   "cell_type": "markdown",
   "metadata": {},
   "source": [
    "Comparer avec les données initiales pour identifier le plus fort score reconstruit par client."
   ]
  },
  {
   "cell_type": "code",
   "execution_count": null,
   "metadata": {},
   "outputs": [],
   "source": [
    "prod <- apply(xchap - 10 * jouet, 1, function(x) which.max(x))\n",
    "# Identifier le produit correspondant\n",
    "cbind(dN.w, dN.h[prod])"
   ]
  },
  {
   "cell_type": "markdown",
   "metadata": {},
   "source": [
    "Cette étude n'est qu'une brève introduction au problème du filtrage collaboratif. De nombreuses questions n'ont pas été abordées dont le *cold start* et surtout celle très importante de l'**évaluation** de tels systèmes. \n",
    "\n",
    "Un procédé simple consiste à volontairement supprimer des valeurs, c'est à dire des achats réels, afin de déterminer quelle stratégie retrouve au mieux ces propositions; c'était le principe du concours Netflix."
   ]
  },
  {
   "cell_type": "markdown",
   "metadata": {},
   "source": [
    "**Q** Pour se faire une idée de ce procédé, faire une copie du tableau de données (disons `jouet2`) et remplacer la valeur 6 associée à (Jean, Pepsi) par 0. Appliquer les algorithmes de recommendation et faites afficher la recommandation pour Jean."
   ]
  }
 ],
 "metadata": {
  "kernelspec": {
   "display_name": "R",
   "language": "R",
   "name": "ir"
  },
  "language_info": {
   "codemirror_mode": "r",
   "file_extension": ".r",
   "mimetype": "text/x-r-source",
   "name": "R",
   "pygments_lexer": "r",
   "version": "4.0.5"
  },
  "toc": {
   "base_numbering": 1,
   "nav_menu": {},
   "number_sections": true,
   "sideBar": true,
   "skip_h1_title": false,
   "title_cell": "Table of Contents",
   "title_sidebar": "Contents",
   "toc_cell": false,
   "toc_position": {},
   "toc_section_display": true,
   "toc_window_display": false
  }
 },
 "nbformat": 4,
 "nbformat_minor": 1
}
